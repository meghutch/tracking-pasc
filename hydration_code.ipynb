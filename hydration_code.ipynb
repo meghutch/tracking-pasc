{
 "cells": [
  {
   "cell_type": "code",
   "execution_count": 2,
   "id": "cf706479",
   "metadata": {},
   "outputs": [
    {
     "ename": "ImportError",
     "evalue": "cannot import name 'TweepError' from 'tweepy' (C:\\Users\\mukhe\\anaconda3\\lib\\site-packages\\tweepy\\__init__.py)",
     "output_type": "error",
     "traceback": [
      "\u001b[1;31m---------------------------------------------------------------------------\u001b[0m",
      "\u001b[1;31mImportError\u001b[0m                               Traceback (most recent call last)",
      "Input \u001b[1;32mIn [2]\u001b[0m, in \u001b[0;36m<cell line: 3>\u001b[1;34m()\u001b[0m\n\u001b[0;32m      1\u001b[0m \u001b[38;5;28;01mimport\u001b[39;00m \u001b[38;5;21;01mjson\u001b[39;00m\n\u001b[0;32m      2\u001b[0m \u001b[38;5;28;01mimport\u001b[39;00m \u001b[38;5;21;01mtweepy\u001b[39;00m\n\u001b[1;32m----> 3\u001b[0m \u001b[38;5;28;01mfrom\u001b[39;00m \u001b[38;5;21;01mtweepy\u001b[39;00m \u001b[38;5;28;01mimport\u001b[39;00m TweepError\n\u001b[0;32m      4\u001b[0m \u001b[38;5;28;01mfrom\u001b[39;00m \u001b[38;5;21;01mtweepy\u001b[39;00m \u001b[38;5;28;01mimport\u001b[39;00m OAuthHandler\n",
      "\u001b[1;31mImportError\u001b[0m: cannot import name 'TweepError' from 'tweepy' (C:\\Users\\mukhe\\anaconda3\\lib\\site-packages\\tweepy\\__init__.py)"
     ]
    }
   ],
   "source": [
    "import json\n",
    "import tweepy\n",
    "from tweepy import TweepError\n",
    "from tweepy import OAuthHandler"
   ]
  },
  {
   "cell_type": "code",
   "execution_count": 5,
   "id": "9ac9edec",
   "metadata": {},
   "outputs": [],
   "source": [
    "CONSUMER_KEY = \"8ljswib2qYUtbWeFaidZq1aFY\" #@param {type:\"string\"}\n",
    "CONSUMER_SECRET_KEY = \"qLKtGgWsAS3IDgthuqRpXBvxKf6yiCXsFpqjObKLvLH3CDIq5O\" #@param {type:\"string\"}\n",
    "ACCESS_TOKEN_KEY = \"3774907761-oUrNgbdnb1lxKOFEnixsSY6p1dGRMqKg6EqvtQp\" #@param {type:\"string\"}\n",
    "ACCESS_TOKEN_SECRET_KEY = \"KNdMD8cos84LPl87HiQEHg1CfMvBmB5ohlUP759kaTd1j\" #@param {type:\"string\"}\n",
    "\n",
    "with open('api_keys.json', 'w') as outfile:\n",
    "    json.dump({\n",
    "    \"consumer_key\":CONSUMER_KEY,\n",
    "    \"consumer_secret\":CONSUMER_SECRET_KEY,\n",
    "    \"access_token\":ACCESS_TOKEN_KEY,\n",
    "    \"access_token_secret\": ACCESS_TOKEN_SECRET_KEY\n",
    "     }, outfile)"
   ]
  },
  {
   "cell_type": "code",
   "execution_count": 7,
   "id": "a18f96d4",
   "metadata": {
    "scrolled": true
   },
   "outputs": [
    {
     "name": "stdout",
     "output_type": "stream",
     "text": [
      "^C\n"
     ]
    }
   ],
   "source": [
    "!python get_metadata.py -i clean_dataset_filtered.tsv -o hydrated_tweets -k api_keys.json"
   ]
  },
  {
   "cell_type": "code",
   "execution_count": null,
   "id": "47e69250",
   "metadata": {},
   "outputs": [],
   "source": []
  }
 ],
 "metadata": {
  "kernelspec": {
   "display_name": "Python 3 (ipykernel)",
   "language": "python",
   "name": "python3"
  },
  "language_info": {
   "codemirror_mode": {
    "name": "ipython",
    "version": 3
   },
   "file_extension": ".py",
   "mimetype": "text/x-python",
   "name": "python",
   "nbconvert_exporter": "python",
   "pygments_lexer": "ipython3",
   "version": "3.9.12"
  }
 },
 "nbformat": 4,
 "nbformat_minor": 5
}
