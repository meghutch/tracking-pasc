{
 "cells": [
  {
   "cell_type": "code",
   "execution_count": 3,
   "metadata": {},
   "outputs": [],
   "source": [
    "import pandas as pd\n",
    "import gzip\n",
    "import shutil\n",
    "import os\n",
    "import csv\n",
    "import linecache\n",
    "from shutil import copyfile\n",
    "import ipywidgets as widgets\n",
    "import numpy as np"
   ]
  },
  {
   "cell_type": "code",
   "execution_count": 8,
   "metadata": {},
   "outputs": [],
   "source": [
    "with gzip.open('no_retweets_v2.tsv.gz', 'rb') as f_in:\n",
    "    with open('no_retweets_set.tsv', 'wb') as f_out:\n",
    "        shutil.copyfileobj(f_in, f_out)"
   ]
  },
  {
   "cell_type": "code",
   "execution_count": 10,
   "metadata": {},
   "outputs": [
    {
     "name": "stdout",
     "output_type": "stream",
     "text": [
      "\u001b[1mShowing first 5 tweets from the filtered dataset\u001b[0m\n",
      "['1213330173736738817\\t2020-01-04\\t05:23:50\\ten\\tNULL\\n', '1214195710301618178\\t2020-01-06\\t14:43:10\\ten\\tNULL\\n', '1214198629553950721\\t2020-01-06\\t14:54:46\\ten\\tNULL\\n', '1214917256414662656\\t2020-01-08\\t14:30:20\\ten\\tNULL\\n', '1214936881563082752\\t2020-01-08\\t15:48:19\\ten\\tNULL\\n']\n"
     ]
    }
   ],
   "source": [
    "save_path = '/projects/p31499/tracking_pasc/data'\n",
    "file_name = \"no_retweets_set_filtered.tsv\"\n",
    "\n",
    "completeName = os.path.join(save_path, file_name)\n",
    "\n",
    "filtered_language = \"en\"\n",
    "\n",
    "filtered_tw = list()\n",
    "current_line = 1\n",
    "with open(\"no_retweets_set.tsv\") as tsvfile:\n",
    "    tsvreader = csv.reader(tsvfile, delimiter=\"\\t\")\n",
    "\n",
    "    if current_line == 1:\n",
    "        filtered_tw.append(linecache.getline(\"no_retweets_set.tsv\", current_line))\n",
    "\n",
    "        for line in tsvreader:\n",
    "            if line[3] == filtered_language:\n",
    "                filtered_tw.append(linecache.getline(\"no_retweets_set.tsv\", current_line))\n",
    "            current_line += 1\n",
    "\n",
    "print('\\033[1mShowing first 5 tweets from the filtered dataset\\033[0m')\n",
    "print(filtered_tw[1:(6 if len(filtered_tw) > 6 else len(filtered_tw))])\n",
    "\n",
    "with open(completeName, 'w') as f_output:\n",
    "    for item in filtered_tw:\n",
    "        f_output.write(item)"
   ]
  },
  {
   "cell_type": "code",
   "execution_count": 11,
   "metadata": {},
   "outputs": [
    {
     "data": {
      "text/plain": [
       "190561815"
      ]
     },
     "execution_count": 11,
     "metadata": {},
     "output_type": "execute_result"
    }
   ],
   "source": [
    "len(filtered_tw)"
   ]
  },
  {
   "cell_type": "code",
   "execution_count": 14,
   "metadata": {},
   "outputs": [],
   "source": [
    "tweets = pd.read_csv(\"no_retweets_set_filtered.tsv\", delimiter = '\\t')"
   ]
  },
  {
   "cell_type": "code",
   "execution_count": 15,
   "metadata": {},
   "outputs": [
    {
     "data": {
      "text/html": [
       "<div>\n",
       "<style scoped>\n",
       "    .dataframe tbody tr th:only-of-type {\n",
       "        vertical-align: middle;\n",
       "    }\n",
       "\n",
       "    .dataframe tbody tr th {\n",
       "        vertical-align: top;\n",
       "    }\n",
       "\n",
       "    .dataframe thead th {\n",
       "        text-align: right;\n",
       "    }\n",
       "</style>\n",
       "<table border=\"1\" class=\"dataframe\">\n",
       "  <thead>\n",
       "    <tr style=\"text-align: right;\">\n",
       "      <th></th>\n",
       "      <th>tweet_id</th>\n",
       "      <th>date</th>\n",
       "      <th>time</th>\n",
       "      <th>lang</th>\n",
       "      <th>country_place</th>\n",
       "    </tr>\n",
       "  </thead>\n",
       "  <tbody>\n",
       "    <tr>\n",
       "      <th>0</th>\n",
       "      <td>1213330173736738817</td>\n",
       "      <td>2020-01-04</td>\n",
       "      <td>05:23:50</td>\n",
       "      <td>en</td>\n",
       "      <td>NaN</td>\n",
       "    </tr>\n",
       "    <tr>\n",
       "      <th>1</th>\n",
       "      <td>1214195710301618178</td>\n",
       "      <td>2020-01-06</td>\n",
       "      <td>14:43:10</td>\n",
       "      <td>en</td>\n",
       "      <td>NaN</td>\n",
       "    </tr>\n",
       "    <tr>\n",
       "      <th>2</th>\n",
       "      <td>1214198629553950721</td>\n",
       "      <td>2020-01-06</td>\n",
       "      <td>14:54:46</td>\n",
       "      <td>en</td>\n",
       "      <td>NaN</td>\n",
       "    </tr>\n",
       "    <tr>\n",
       "      <th>3</th>\n",
       "      <td>1214917256414662656</td>\n",
       "      <td>2020-01-08</td>\n",
       "      <td>14:30:20</td>\n",
       "      <td>en</td>\n",
       "      <td>NaN</td>\n",
       "    </tr>\n",
       "    <tr>\n",
       "      <th>4</th>\n",
       "      <td>1214936881563082752</td>\n",
       "      <td>2020-01-08</td>\n",
       "      <td>15:48:19</td>\n",
       "      <td>en</td>\n",
       "      <td>NaN</td>\n",
       "    </tr>\n",
       "    <tr>\n",
       "      <th>...</th>\n",
       "      <td>...</td>\n",
       "      <td>...</td>\n",
       "      <td>...</td>\n",
       "      <td>...</td>\n",
       "      <td>...</td>\n",
       "    </tr>\n",
       "    <tr>\n",
       "      <th>190561809</th>\n",
       "      <td>1540907728113004545</td>\n",
       "      <td>2022-06-26</td>\n",
       "      <td>04:00:05</td>\n",
       "      <td>en</td>\n",
       "      <td>NaN</td>\n",
       "    </tr>\n",
       "    <tr>\n",
       "      <th>190561810</th>\n",
       "      <td>1540907738913546241</td>\n",
       "      <td>2022-06-26</td>\n",
       "      <td>04:00:08</td>\n",
       "      <td>en</td>\n",
       "      <td>NaN</td>\n",
       "    </tr>\n",
       "    <tr>\n",
       "      <th>190561811</th>\n",
       "      <td>1540907755946446849</td>\n",
       "      <td>2022-06-26</td>\n",
       "      <td>04:00:12</td>\n",
       "      <td>en</td>\n",
       "      <td>NaN</td>\n",
       "    </tr>\n",
       "    <tr>\n",
       "      <th>190561812</th>\n",
       "      <td>1540907761227145222</td>\n",
       "      <td>2022-06-26</td>\n",
       "      <td>04:00:13</td>\n",
       "      <td>en</td>\n",
       "      <td>NaN</td>\n",
       "    </tr>\n",
       "    <tr>\n",
       "      <th>190561813</th>\n",
       "      <td>1540907766956470272</td>\n",
       "      <td>2022-06-26</td>\n",
       "      <td>04:00:14</td>\n",
       "      <td>en</td>\n",
       "      <td>NaN</td>\n",
       "    </tr>\n",
       "  </tbody>\n",
       "</table>\n",
       "<p>190561814 rows × 5 columns</p>\n",
       "</div>"
      ],
      "text/plain": [
       "                      tweet_id        date      time lang country_place\n",
       "0          1213330173736738817  2020-01-04  05:23:50   en           NaN\n",
       "1          1214195710301618178  2020-01-06  14:43:10   en           NaN\n",
       "2          1214198629553950721  2020-01-06  14:54:46   en           NaN\n",
       "3          1214917256414662656  2020-01-08  14:30:20   en           NaN\n",
       "4          1214936881563082752  2020-01-08  15:48:19   en           NaN\n",
       "...                        ...         ...       ...  ...           ...\n",
       "190561809  1540907728113004545  2022-06-26  04:00:05   en           NaN\n",
       "190561810  1540907738913546241  2022-06-26  04:00:08   en           NaN\n",
       "190561811  1540907755946446849  2022-06-26  04:00:12   en           NaN\n",
       "190561812  1540907761227145222  2022-06-26  04:00:13   en           NaN\n",
       "190561813  1540907766956470272  2022-06-26  04:00:14   en           NaN\n",
       "\n",
       "[190561814 rows x 5 columns]"
      ]
     },
     "execution_count": 15,
     "metadata": {},
     "output_type": "execute_result"
    }
   ],
   "source": [
    "tweets"
   ]
  },
  {
   "cell_type": "code",
   "execution_count": 16,
   "metadata": {},
   "outputs": [
    {
     "data": {
      "text/html": [
       "<div>\n",
       "<style scoped>\n",
       "    .dataframe tbody tr th:only-of-type {\n",
       "        vertical-align: middle;\n",
       "    }\n",
       "\n",
       "    .dataframe tbody tr th {\n",
       "        vertical-align: top;\n",
       "    }\n",
       "\n",
       "    .dataframe thead th {\n",
       "        text-align: right;\n",
       "    }\n",
       "</style>\n",
       "<table border=\"1\" class=\"dataframe\">\n",
       "  <thead>\n",
       "    <tr style=\"text-align: right;\">\n",
       "      <th></th>\n",
       "      <th>tweet_id</th>\n",
       "      <th>date</th>\n",
       "      <th>time</th>\n",
       "      <th>lang</th>\n",
       "      <th>country_place</th>\n",
       "    </tr>\n",
       "  </thead>\n",
       "  <tbody>\n",
       "    <tr>\n",
       "      <th>0</th>\n",
       "      <td>1213330173736738817</td>\n",
       "      <td>2020-01-04</td>\n",
       "      <td>05:23:50</td>\n",
       "      <td>en</td>\n",
       "      <td>NaN</td>\n",
       "    </tr>\n",
       "    <tr>\n",
       "      <th>1</th>\n",
       "      <td>1214195710301618178</td>\n",
       "      <td>2020-01-06</td>\n",
       "      <td>14:43:10</td>\n",
       "      <td>en</td>\n",
       "      <td>NaN</td>\n",
       "    </tr>\n",
       "    <tr>\n",
       "      <th>2</th>\n",
       "      <td>1214198629553950721</td>\n",
       "      <td>2020-01-06</td>\n",
       "      <td>14:54:46</td>\n",
       "      <td>en</td>\n",
       "      <td>NaN</td>\n",
       "    </tr>\n",
       "    <tr>\n",
       "      <th>3</th>\n",
       "      <td>1214917256414662656</td>\n",
       "      <td>2020-01-08</td>\n",
       "      <td>14:30:20</td>\n",
       "      <td>en</td>\n",
       "      <td>NaN</td>\n",
       "    </tr>\n",
       "    <tr>\n",
       "      <th>4</th>\n",
       "      <td>1214936881563082752</td>\n",
       "      <td>2020-01-08</td>\n",
       "      <td>15:48:19</td>\n",
       "      <td>en</td>\n",
       "      <td>NaN</td>\n",
       "    </tr>\n",
       "    <tr>\n",
       "      <th>...</th>\n",
       "      <td>...</td>\n",
       "      <td>...</td>\n",
       "      <td>...</td>\n",
       "      <td>...</td>\n",
       "      <td>...</td>\n",
       "    </tr>\n",
       "    <tr>\n",
       "      <th>190559506</th>\n",
       "      <td>1540868434140884994</td>\n",
       "      <td>2022-06-26</td>\n",
       "      <td>01:23:57</td>\n",
       "      <td>en</td>\n",
       "      <td>NaN</td>\n",
       "    </tr>\n",
       "    <tr>\n",
       "      <th>190559507</th>\n",
       "      <td>1540868469951954952</td>\n",
       "      <td>2022-06-26</td>\n",
       "      <td>01:24:05</td>\n",
       "      <td>en</td>\n",
       "      <td>NaN</td>\n",
       "    </tr>\n",
       "    <tr>\n",
       "      <th>190559508</th>\n",
       "      <td>1540868489342320641</td>\n",
       "      <td>2022-06-26</td>\n",
       "      <td>01:24:10</td>\n",
       "      <td>en</td>\n",
       "      <td>NaN</td>\n",
       "    </tr>\n",
       "    <tr>\n",
       "      <th>190559497</th>\n",
       "      <td>1540868354864463872</td>\n",
       "      <td>2022-06-26</td>\n",
       "      <td>01:23:38</td>\n",
       "      <td>en</td>\n",
       "      <td>NaN</td>\n",
       "    </tr>\n",
       "    <tr>\n",
       "      <th>190561813</th>\n",
       "      <td>1540907766956470272</td>\n",
       "      <td>2022-06-26</td>\n",
       "      <td>04:00:14</td>\n",
       "      <td>en</td>\n",
       "      <td>NaN</td>\n",
       "    </tr>\n",
       "  </tbody>\n",
       "</table>\n",
       "<p>190561814 rows × 5 columns</p>\n",
       "</div>"
      ],
      "text/plain": [
       "                      tweet_id        date      time lang country_place\n",
       "0          1213330173736738817  2020-01-04  05:23:50   en           NaN\n",
       "1          1214195710301618178  2020-01-06  14:43:10   en           NaN\n",
       "2          1214198629553950721  2020-01-06  14:54:46   en           NaN\n",
       "3          1214917256414662656  2020-01-08  14:30:20   en           NaN\n",
       "4          1214936881563082752  2020-01-08  15:48:19   en           NaN\n",
       "...                        ...         ...       ...  ...           ...\n",
       "190559506  1540868434140884994  2022-06-26  01:23:57   en           NaN\n",
       "190559507  1540868469951954952  2022-06-26  01:24:05   en           NaN\n",
       "190559508  1540868489342320641  2022-06-26  01:24:10   en           NaN\n",
       "190559497  1540868354864463872  2022-06-26  01:23:38   en           NaN\n",
       "190561813  1540907766956470272  2022-06-26  04:00:14   en           NaN\n",
       "\n",
       "[190561814 rows x 5 columns]"
      ]
     },
     "execution_count": 16,
     "metadata": {},
     "output_type": "execute_result"
    }
   ],
   "source": [
    "tweets.sort_values(by = 'date', ascending = True, inplace = True)\n",
    "tweets"
   ]
  },
  {
   "cell_type": "code",
   "execution_count": 30,
   "metadata": {},
   "outputs": [
    {
     "ename": "KeyboardInterrupt",
     "evalue": "",
     "output_type": "error",
     "traceback": [
      "\u001b[0;31m---------------------------------------------------------------------------\u001b[0m",
      "\u001b[0;31mKeyboardInterrupt\u001b[0m                         Traceback (most recent call last)",
      "    \u001b[0;31m[... skipping hidden 1 frame]\u001b[0m\n",
      "Input \u001b[0;32mIn [30]\u001b[0m, in \u001b[0;36m<cell line: 6>\u001b[0;34m()\u001b[0m\n\u001b[1;32m      5\u001b[0m s \u001b[38;5;241m=\u001b[39m \u001b[38;5;241m10000000\u001b[39m \u001b[38;5;66;03m#desired sample size\u001b[39;00m\n\u001b[0;32m----> 6\u001b[0m skip \u001b[38;5;241m=\u001b[39m \u001b[38;5;28;43msorted\u001b[39;49m\u001b[43m(\u001b[49m\u001b[43mrandom\u001b[49m\u001b[38;5;241;43m.\u001b[39;49m\u001b[43msample\u001b[49m\u001b[43m(\u001b[49m\u001b[38;5;28;43mrange\u001b[39;49m\u001b[43m(\u001b[49m\u001b[38;5;241;43m1\u001b[39;49m\u001b[43m,\u001b[49m\u001b[43mn\u001b[49m\u001b[38;5;241;43m+\u001b[39;49m\u001b[38;5;241;43m1\u001b[39;49m\u001b[43m)\u001b[49m\u001b[43m,\u001b[49m\u001b[43mn\u001b[49m\u001b[38;5;241;43m-\u001b[39;49m\u001b[43ms\u001b[49m\u001b[43m)\u001b[49m\u001b[43m)\u001b[49m\n",
      "\u001b[0;31mKeyboardInterrupt\u001b[0m: ",
      "\nDuring handling of the above exception, another exception occurred:\n",
      "\u001b[0;31mKeyboardInterrupt\u001b[0m                         Traceback (most recent call last)",
      "\u001b[0;31mKeyboardInterrupt\u001b[0m: "
     ]
    }
   ],
   "source": [
    "import random\n",
    "\n",
    "filename = \"no_retweets_set_filtered.tsv\"\n",
    "n = sum(1 for line in open(filename)) - 1 #number of records in file (excludes header)\n",
    "s = 120000 #desired sample size\n",
    "skip = sorted(random.sample(range(1,n+1),n-s)) #the 0-indexed header will not be included in the skip list\n",
    "\n",
    "df = pd.read_csv(filename, delimiter=\"\\t\", skiprows=skip)"
   ]
  },
  {
   "cell_type": "code",
   "execution_count": 21,
   "metadata": {},
   "outputs": [
    {
     "data": {
      "text/html": [
       "<div>\n",
       "<style scoped>\n",
       "    .dataframe tbody tr th:only-of-type {\n",
       "        vertical-align: middle;\n",
       "    }\n",
       "\n",
       "    .dataframe tbody tr th {\n",
       "        vertical-align: top;\n",
       "    }\n",
       "\n",
       "    .dataframe thead th {\n",
       "        text-align: right;\n",
       "    }\n",
       "</style>\n",
       "<table border=\"1\" class=\"dataframe\">\n",
       "  <thead>\n",
       "    <tr style=\"text-align: right;\">\n",
       "      <th></th>\n",
       "      <th>tweet_id</th>\n",
       "      <th>date</th>\n",
       "      <th>time</th>\n",
       "      <th>lang</th>\n",
       "      <th>country_place</th>\n",
       "    </tr>\n",
       "  </thead>\n",
       "  <tbody>\n",
       "    <tr>\n",
       "      <th>0</th>\n",
       "      <td>1220749184489476096</td>\n",
       "      <td>2020-01-24</td>\n",
       "      <td>16:44:20</td>\n",
       "      <td>en</td>\n",
       "      <td>NaN</td>\n",
       "    </tr>\n",
       "    <tr>\n",
       "      <th>1</th>\n",
       "      <td>1221488900348055552</td>\n",
       "      <td>2020-01-26</td>\n",
       "      <td>17:43:42</td>\n",
       "      <td>en</td>\n",
       "      <td>NaN</td>\n",
       "    </tr>\n",
       "    <tr>\n",
       "      <th>2</th>\n",
       "      <td>1221828612443267074</td>\n",
       "      <td>2020-01-27</td>\n",
       "      <td>16:13:36</td>\n",
       "      <td>en</td>\n",
       "      <td>NaN</td>\n",
       "    </tr>\n",
       "    <tr>\n",
       "      <th>3</th>\n",
       "      <td>1221829107194814465</td>\n",
       "      <td>2020-01-27</td>\n",
       "      <td>16:15:34</td>\n",
       "      <td>en</td>\n",
       "      <td>NaN</td>\n",
       "    </tr>\n",
       "    <tr>\n",
       "      <th>4</th>\n",
       "      <td>1221835146652876800</td>\n",
       "      <td>2020-01-27</td>\n",
       "      <td>16:39:34</td>\n",
       "      <td>en</td>\n",
       "      <td>NaN</td>\n",
       "    </tr>\n",
       "    <tr>\n",
       "      <th>...</th>\n",
       "      <td>...</td>\n",
       "      <td>...</td>\n",
       "      <td>...</td>\n",
       "      <td>...</td>\n",
       "      <td>...</td>\n",
       "    </tr>\n",
       "    <tr>\n",
       "      <th>119995</th>\n",
       "      <td>1540761308236492800</td>\n",
       "      <td>2022-06-25</td>\n",
       "      <td>18:18:16</td>\n",
       "      <td>en</td>\n",
       "      <td>NaN</td>\n",
       "    </tr>\n",
       "    <tr>\n",
       "      <th>119996</th>\n",
       "      <td>1540816240112857088</td>\n",
       "      <td>2022-06-25</td>\n",
       "      <td>21:56:33</td>\n",
       "      <td>en</td>\n",
       "      <td>NaN</td>\n",
       "    </tr>\n",
       "    <tr>\n",
       "      <th>119997</th>\n",
       "      <td>1540844183920967684</td>\n",
       "      <td>2022-06-25</td>\n",
       "      <td>23:47:35</td>\n",
       "      <td>en</td>\n",
       "      <td>NaN</td>\n",
       "    </tr>\n",
       "    <tr>\n",
       "      <th>119998</th>\n",
       "      <td>1540851081936240641</td>\n",
       "      <td>2022-06-26</td>\n",
       "      <td>00:15:00</td>\n",
       "      <td>en</td>\n",
       "      <td>NaN</td>\n",
       "    </tr>\n",
       "    <tr>\n",
       "      <th>119999</th>\n",
       "      <td>1540895276042522624</td>\n",
       "      <td>2022-06-26</td>\n",
       "      <td>03:10:36</td>\n",
       "      <td>en</td>\n",
       "      <td>NaN</td>\n",
       "    </tr>\n",
       "  </tbody>\n",
       "</table>\n",
       "<p>120000 rows × 5 columns</p>\n",
       "</div>"
      ],
      "text/plain": [
       "                   tweet_id        date      time lang country_place\n",
       "0       1220749184489476096  2020-01-24  16:44:20   en           NaN\n",
       "1       1221488900348055552  2020-01-26  17:43:42   en           NaN\n",
       "2       1221828612443267074  2020-01-27  16:13:36   en           NaN\n",
       "3       1221829107194814465  2020-01-27  16:15:34   en           NaN\n",
       "4       1221835146652876800  2020-01-27  16:39:34   en           NaN\n",
       "...                     ...         ...       ...  ...           ...\n",
       "119995  1540761308236492800  2022-06-25  18:18:16   en           NaN\n",
       "119996  1540816240112857088  2022-06-25  21:56:33   en           NaN\n",
       "119997  1540844183920967684  2022-06-25  23:47:35   en           NaN\n",
       "119998  1540851081936240641  2022-06-26  00:15:00   en           NaN\n",
       "119999  1540895276042522624  2022-06-26  03:10:36   en           NaN\n",
       "\n",
       "[120000 rows x 5 columns]"
      ]
     },
     "execution_count": 21,
     "metadata": {},
     "output_type": "execute_result"
    }
   ],
   "source": [
    "df"
   ]
  },
  {
   "cell_type": "code",
   "execution_count": 26,
   "metadata": {},
   "outputs": [
    {
     "data": {
      "text/plain": [
       "<AxesSubplot:xlabel='date'>"
      ]
     },
     "execution_count": 26,
     "metadata": {},
     "output_type": "execute_result"
    },
    {
     "data": {
      "image/png": "[encoded data removed]",
      "text/plain": [
       "<Figure size 432x288 with 1 Axes>"
      ]
     },
     "metadata": {
      "needs_background": "light"
     },
     "output_type": "display_data"
    },
    {
     "data": {
      "image/png": "[encoded data removed]",
      "text/plain": [
       "<Figure size 432x288 with 1 Axes>"
      ]
     },
     "metadata": {
      "needs_background": "light"
     },
     "output_type": "display_data"
    },
    {
     "data": {
      "image/png": "[encoded data removed]",
      "text/plain": [
       "<Figure size 432x288 with 1 Axes>"
      ]
     },
     "metadata": {
      "needs_background": "light"
     },
     "output_type": "display_data"
    }
   ],
   "source": [
    "import matplotlib\n",
    "\n",
    "df[\"date\"] = df[\"date\"].astype(\"datetime64\")\n",
    "df.groupby(df[\"date\"].dt.day).count().plot(kind=\"bar\")\n",
    "\n",
    "df[\"date\"] = df[\"date\"].astype(\"datetime64\")\n",
    "df.groupby(df[\"date\"].dt.month).count().plot(kind=\"bar\")\n",
    "\n",
    "df[\"date\"] = df[\"date\"].astype(\"datetime64\")\n",
    "df.groupby(df[\"date\"].dt.year).count().plot(kind=\"bar\")"
   ]
  },
  {
   "cell_type": "code",
   "execution_count": 27,
   "metadata": {},
   "outputs": [
    {
     "data": {
      "text/plain": [
       "<AxesSubplot:xlabel='date'>"
      ]
     },
     "execution_count": 27,
     "metadata": {},
     "output_type": "execute_result"
    },
    {
     "data": {
      "image/png": "[encoded data removed]",
      "text/plain": [
       "<Figure size 432x288 with 1 Axes>"
      ]
     },
     "metadata": {
      "needs_background": "light"
     },
     "output_type": "display_data"
    },
    {
     "data": {
      "image/png": "[encoded data removed]",
      "text/plain": [
       "<Figure size 432x288 with 1 Axes>"
      ]
     },
     "metadata": {
      "needs_background": "light"
     },
     "output_type": "display_data"
    },
    {
     "data": {
      "image/png": "[encoded data removed]",
      "text/plain": [
       "<Figure size 432x288 with 1 Axes>"
      ]
     },
     "metadata": {
      "needs_background": "light"
     },
     "output_type": "display_data"
    }
   ],
   "source": [
    "tweets[\"date\"] = tweets[\"date\"].astype(\"datetime64\")\n",
    "tweets.groupby(tweets[\"date\"].dt.day).count().plot(kind=\"bar\")\n",
    "\n",
    "tweets[\"date\"] = tweets[\"date\"].astype(\"datetime64\")\n",
    "tweets.groupby(tweets[\"date\"].dt.month).count().plot(kind=\"bar\")\n",
    "\n",
    "tweets[\"date\"] = tweets[\"date\"].astype(\"datetime64\")\n",
    "tweets.groupby(tweets[\"date\"].dt.year).count().plot(kind=\"bar\")"
   ]
  },
  {
   "cell_type": "code",
   "execution_count": 29,
   "metadata": {},
   "outputs": [],
   "source": [
    "df[\"tweet_id\"].to_csv('test.txt', index = False)"
   ]
  },
  {
   "cell_type": "code",
   "execution_count": 32,
   "metadata": {},
   "outputs": [
    {
     "data": {
      "text/plain": [
       "<AxesSubplot:xlabel='date,date'>"
      ]
     },
     "execution_count": 32,
     "metadata": {},
     "output_type": "execute_result"
    },
    {
     "data": {
      "image/png": "[encoded data removed]",
      "text/plain": [
       "<Figure size 432x288 with 1 Axes>"
      ]
     },
     "metadata": {
      "needs_background": "light"
     },
     "output_type": "display_data"
    },
    {
     "data": {
      "image/png": "[encoded data removed]",
      "text/plain": [
       "<Figure size 432x288 with 1 Axes>"
      ]
     },
     "metadata": {
      "needs_background": "light"
     },
     "output_type": "display_data"
    }
   ],
   "source": [
    "df.groupby([df[\"date\"].dt.year, df[\"date\"].dt.month]).count().plot(kind=\"bar\")\n",
    "tweets.groupby([tweets[\"date\"].dt.year, tweets[\"date\"].dt.month]).count().plot(kind=\"bar\")"
   ]
  },
  {
   "cell_type": "code",
   "execution_count": null,
   "metadata": {},
   "outputs": [],
   "source": []
  }
 ],
 "metadata": {
  "kernelspec": {
   "display_name": "covid-dtm",
   "language": "python",
   "name": "covid-dtm"
  },
  "language_info": {
   "codemirror_mode": {
    "name": "ipython",
    "version": 3
   },
   "file_extension": ".py",
   "mimetype": "text/x-python",
   "name": "python",
   "nbconvert_exporter": "python",
   "pygments_lexer": "ipython3",
   "version": "3.10.4"
  }
 },
 "nbformat": 4,
 "nbformat_minor": 2
}
