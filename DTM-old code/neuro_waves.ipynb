{
 "cells": [
  {
   "cell_type": "code",
   "execution_count": 134,
   "metadata": {
    "collapsed": true
   },
   "outputs": [],
   "source": [
    "import os\n",
    "import argparse\n",
    "import re\n",
    "\n",
    "import logging\n",
    "#import yaml\n",
    "import time\n",
    "import random\n",
    "import pandas as pd\n",
    "import numpy as np\n",
    "import string \n",
    "import nltk\n",
    "from nltk.stem.wordnet import WordNetLemmatizer\n",
    "from nltk.tokenize import word_tokenize\n",
    "from nltk.corpus import stopwords\n",
    "from gensim import corpora\n",
    "from gensim.test.utils import common_corpus, common_dictionary\n",
    "from gensim.models.ldamodel import LdaModel\n",
    "from gensim.models.coherencemodel import CoherenceModel\n",
    "from gensim.models.wrappers import DtmModel\n",
    "from gensim import matutils\n",
    "from wordcloud import WordCloud, STOPWORDS\n",
    "import matplotlib.colors as mcolors\n",
    "from matplotlib import pyplot as plt\n",
    "import seaborn as sns\n",
    "\n",
    "from sklearn.model_selection import train_test_split"
   ]
  },
  {
   "cell_type": "code",
   "execution_count": 135,
   "metadata": {
    "collapsed": true
   },
   "outputs": [],
   "source": [
    "# set working directory\n",
    "os.chdir(\"/home/mrh1996/LDA_COVID_Tweets\")"
   ]
  },
  {
   "cell_type": "code",
   "execution_count": 136,
   "metadata": {
    "collapsed": true
   },
   "outputs": [],
   "source": [
    "neuro_waves = pd.read_csv('../projects/neuro_waves_diagnoses.csv')\n",
    "neuro_waves_neuroicd = pd.read_csv('../projects/neuro_waves_neuroicd.csv')"
   ]
  },
  {
   "cell_type": "code",
   "execution_count": 137,
   "metadata": {
    "collapsed": true
   },
   "outputs": [],
   "source": [
    "neuro_waves = neuro_waves[['patient_num', 'start_datetime', 'diagnosis_code', 'diagnosis_name','month']]\n",
    "neuro_waves_neuroicd = neuro_waves_neuroicd[['patient_num', 'start_datetime', 'diagnosis_code', 'diagnosis_name','month']]"
   ]
  },
  {
   "cell_type": "code",
   "execution_count": 138,
   "metadata": {
    "collapsed": true
   },
   "outputs": [],
   "source": [
    "!chmod 755 -R '/home/mrh1996/LDA_COVID_Tweets/dtm-linux64'"
   ]
  },
  {
   "cell_type": "code",
   "execution_count": 139,
   "metadata": {
    "collapsed": true
   },
   "outputs": [],
   "source": [
    "dx_codes = neuro_waves_neuroicd['diagnosis_code']\n",
    "\n",
    "# be sure to split sentence before feed into Dictionary\n",
    "dx_codes = [d.split() for d in dx_codes]\n",
    "\n",
    "dictionary = corpora.Dictionary(dx_codes)\n",
    "\n",
    "doc_term_matrix = [dictionary.doc2bow(doc) for doc in dx_codes]"
   ]
  },
  {
   "cell_type": "code",
   "execution_count": 140,
   "metadata": {
    "collapsed": true
   },
   "outputs": [],
   "source": [
    "neuro_waves['start_datetime'] = pd.to_datetime(neuro_waves['start_datetime'] + ' 2020', format='%Y-%m-%d', errors='coerce')\n",
    "neuro_waves_neuroicd['start_datetime'] = pd.to_datetime(neuro_waves_neuroicd['start_datetime'] + ' 2020', format='%Y-%m-%d', errors='coerce')"
   ]
  },
  {
   "cell_type": "code",
   "execution_count": 141,
   "metadata": {
    "collapsed": true
   },
   "outputs": [],
   "source": [
    "time_seq = neuro_waves_neuroicd[['diagnosis_code', 'start_datetime']].groupby(pd.Grouper(key='start_datetime', freq='1M')).agg('count') # groupby each 1 month\n",
    "time_seq = time_seq.reset_index()\n",
    "time_seq = time_seq['diagnosis_code'] # not actually diangosis name but the count"
   ]
  },
  {
   "cell_type": "code",
   "execution_count": 133,
   "metadata": {},
   "outputs": [
    {
     "data": {
      "text/plain": [
       "0      47\n",
       "1     365\n",
       "2     248\n",
       "3     166\n",
       "4      86\n",
       "5      60\n",
       "6      95\n",
       "7     147\n",
       "8     463\n",
       "9     463\n",
       "10    327\n",
       "11     38\n",
       "Name: diagnosis_code, dtype: int64"
      ]
     },
     "execution_count": 133,
     "metadata": {},
     "output_type": "execute_result"
    }
   ],
   "source": [
    "time_seq"
   ]
  },
  {
   "cell_type": "raw",
   "metadata": {},
   "source": [
    "cov_model = DtmModel('/home/mrh1996/LDA_COVID_Tweets/dtm-linux64', doc_term_matrix, time_seq, num_topics= 2,\n",
    "                             id2word=dictionary, initialize_lda=True, rng_seed = 1833)"
   ]
  },
  {
   "cell_type": "raw",
   "metadata": {},
   "source": [
    "for i in range(0, (len(time_seq)-1)):\n",
    "            coherence_topics = cov_model.dtm_coherence(time=i)\n",
    "            cm_wrapper_cv = CoherenceModel(topics=coherence_topics, texts=dx_codes, dictionary=dictionary, coherence='c_v')\n",
    "            score = cm_wrapper_cv.get_coherence()\n",
    "            print(score)\n",
    "            tup = t, i, score\n",
    "            results.append(tup)"
   ]
  },
  {
   "cell_type": "raw",
   "metadata": {},
   "source": [
    "cov_model.show_topic(topicid = 0, time = 1, topn=10, num_words=None)"
   ]
  },
  {
   "cell_type": "code",
   "execution_count": 131,
   "metadata": {
    "collapsed": true
   },
   "outputs": [],
   "source": [
    "def validate(topic_term, top_k):\n",
    "    topic_term = np.exp(topic_term)\n",
    "    topic_term = topic_term / topic_term.sum()\n",
    "    topic_term = topic_term * top_k\n",
    "    return topic_term\n",
    "\n",
    "def get_topics(topic_terms, topic_number):\n",
    "    topic_terms = topic_terms[topic_number]\n",
    "    bestn = matutils.argsort(topic_terms, 20, reverse=True)\n",
    "    beststr = [dictionary[id_] for id_ in bestn]\n",
    "    return beststr\n",
    "\n",
    "# next is the vocabulary, which we already have\n",
    "vocab = []\n",
    "for i in range(0, len(dictionary)):\n",
    "    vocab.append(dictionary[i])\n",
    "\n",
    "# we now need term-frequency and doc_lengths\n",
    "\n",
    "def term_frequency(doc_term_matrix, dictionary):\n",
    "    term_frequency = [0] * len(dictionary)\n",
    "    doc_lengths = []\n",
    "    for doc in doc_term_matrix:\n",
    "        doc_lengths.append(len(doc))\n",
    "        for pair in doc:\n",
    "            term_frequency[pair[0]] += pair[1]\n",
    "    return term_frequency, doc_lengths"
   ]
  },
  {
   "cell_type": "code",
   "execution_count": 142,
   "metadata": {},
   "outputs": [
    {
     "name": "stdout",
     "output_type": "stream",
     "text": [
      "1\n"
     ]
    },
    {
     "name": "stderr",
     "output_type": "stream",
     "text": [
      "/home/mrh1996/.conda/envs/lda_covid_tweets/lib/python3.6/site-packages/gensim/models/wrappers/dtmmodel.py:498: UserWarning: The parameter `num_words` is deprecated, will be removed in 4.0.0, use `topn` instead.\n",
      "  warnings.warn(\"The parameter `num_words` is deprecated, will be removed in 4.0.0, use `topn` instead.\")\n"
     ]
    },
    {
     "name": "stdout",
     "output_type": "stream",
     "text": [
      "0.8600247743011247\n",
      "0.8600247743011247\n",
      "0.8600247743011247\n",
      "0.8600247743011247\n",
      "0.8600247743011247\n",
      "0.8600247743011247\n",
      "0.8600247743011247\n",
      "0.8600247743011247\n",
      "0.8600247743011247\n",
      "0.8600247743011247\n",
      "0.8600247743011247\n",
      "2\n",
      "0.8409406693464592\n",
      "0.8409406693464592\n",
      "0.8409406693464592\n",
      "0.8409406693464592\n",
      "0.8409406693464592\n",
      "0.8409406693464592\n",
      "0.8409406693464592\n",
      "0.8409406693464592\n",
      "0.8409406693464592\n",
      "0.840940669346459\n",
      "0.840940669346459\n",
      "3\n",
      "0.8271942220133642\n",
      "0.8271942220133642\n",
      "0.8271942220133642\n",
      "0.8271942220133642\n",
      "0.8271942220133642\n",
      "0.8271942220133642\n",
      "0.8271942220133642\n",
      "0.8271942220133642\n",
      "0.8271942220133642\n",
      "0.8271942220133642\n",
      "0.8271942220133642\n",
      "4\n",
      "0.8183364075548263\n",
      "0.8183364075548263\n",
      "0.8183364075548263\n",
      "0.8183364075548263\n",
      "0.8183364075548263\n",
      "0.8183364075548263\n",
      "0.8183364075548263\n",
      "0.8183364075548263\n",
      "0.8183364075548263\n",
      "0.8183364075548263\n",
      "0.8183364075548263\n",
      "5\n",
      "0.8135211731066041\n",
      "0.8135211731066041\n",
      "0.8135211731066041\n",
      "0.8135211731066041\n",
      "0.8135211731066041\n",
      "0.8135211731066041\n",
      "0.8132601820699017\n",
      "0.8132601820699017\n",
      "0.8135275640429402\n",
      "0.8135275640429402\n",
      "0.8135275640429402\n",
      "6\n",
      "0.8102005257045349\n",
      "0.8102005257045349\n",
      "0.8102005257045349\n",
      "0.8102005257045349\n",
      "0.8102005257045349\n",
      "0.8102005257045349\n",
      "0.8101525502331092\n",
      "0.8101525502331092\n",
      "0.8092289574667136\n",
      "0.8092289574667136\n",
      "0.8092289574667136\n",
      "7\n",
      "0.8071092544450392\n",
      "0.8071092544450392\n",
      "0.8071092544450392\n",
      "0.8071092544450392\n",
      "0.8071092544450392\n",
      "0.8071092544450392\n",
      "0.8069480118252035\n",
      "0.8069480118252035\n",
      "0.8069480118252035\n",
      "0.8069480118252035\n",
      "0.8069480118252035\n",
      "2.447883160909017\n"
     ]
    }
   ],
   "source": [
    "start = time.time()\n",
    "\n",
    "results = []\n",
    "top_k = 8\n",
    "\n",
    "for t in range(1, top_k):\n",
    "        \n",
    "        print(t)\n",
    "        cov_model = DtmModel('/home/mrh1996/LDA_COVID_Tweets/dtm-linux64', doc_term_matrix, time_seq, num_topics= t,\n",
    "                             id2word=dictionary, initialize_lda=True, rng_seed = 1833)\n",
    "        \n",
    "        topic_term = cov_model.lambda_[:,:,0] # the lambda matrix contains \n",
    "        \n",
    "        topic_term = validate(topic_term, t)\n",
    "        \n",
    "        #topics_wrapper = []\n",
    "        #for i in range(0, t):\n",
    "        #    topics_wrapper.append(get_topics(topic_term, i))\n",
    "        #print(len(topics_wrapper))\n",
    "        \n",
    "        for i in range(0, (len(time_seq)-1)):\n",
    "            coherence_topics = cov_model.dtm_coherence(time=i)\n",
    "            cm_wrapper_cv = CoherenceModel(topics=coherence_topics, texts=dx_codes, dictionary=dictionary, coherence='c_v')\n",
    "            score = cm_wrapper_cv.get_coherence()\n",
    "            print(score)\n",
    "            tup = t, i, score\n",
    "            results.append(tup)\n",
    "\n",
    "        lda_results = pd.DataFrame(results, columns=['topic', 'time', 'score'])\n",
    "        \n",
    "end = time.time()\n",
    "print((end - start)/60)"
   ]
  },
  {
   "cell_type": "code",
   "execution_count": null,
   "metadata": {},
   "outputs": [],
   "source": [
    "top_k#time_seq"
   ]
  },
  {
   "cell_type": "code",
   "execution_count": null,
   "metadata": {
    "collapsed": true
   },
   "outputs": [],
   "source": [
    "cov_model.print_topics()"
   ]
  },
  {
   "cell_type": "code",
   "execution_count": null,
   "metadata": {
    "collapsed": true
   },
   "outputs": [],
   "source": [
    "cov_model.dtm_vis(doc_term_matrix, time = 2)[4]"
   ]
  },
  {
   "cell_type": "code",
   "execution_count": null,
   "metadata": {},
   "outputs": [],
   "source": [
    "cov_model.show_topic(topicid = 0, time = 1, topn=10, num_words=None)"
   ]
  },
  {
   "cell_type": "code",
   "execution_count": 143,
   "metadata": {},
   "outputs": [
    {
     "data": {
      "text/html": [
       "<div>\n",
       "<style scoped>\n",
       "    .dataframe tbody tr th:only-of-type {\n",
       "        vertical-align: middle;\n",
       "    }\n",
       "\n",
       "    .dataframe tbody tr th {\n",
       "        vertical-align: top;\n",
       "    }\n",
       "\n",
       "    .dataframe thead th {\n",
       "        text-align: right;\n",
       "    }\n",
       "</style>\n",
       "<table border=\"1\" class=\"dataframe\">\n",
       "  <thead>\n",
       "    <tr style=\"text-align: right;\">\n",
       "      <th></th>\n",
       "      <th>index</th>\n",
       "      <th>probability</th>\n",
       "      <th>term</th>\n",
       "      <th>time</th>\n",
       "      <th>topic</th>\n",
       "    </tr>\n",
       "  </thead>\n",
       "  <tbody>\n",
       "    <tr>\n",
       "      <th>0</th>\n",
       "      <td>0</td>\n",
       "      <td>0.319323</td>\n",
       "      <td>I62.00</td>\n",
       "      <td>0</td>\n",
       "      <td>0</td>\n",
       "    </tr>\n",
       "    <tr>\n",
       "      <th>1</th>\n",
       "      <td>1</td>\n",
       "      <td>0.233875</td>\n",
       "      <td>G72.81</td>\n",
       "      <td>0</td>\n",
       "      <td>0</td>\n",
       "    </tr>\n",
       "    <tr>\n",
       "      <th>2</th>\n",
       "      <td>2</td>\n",
       "      <td>0.171007</td>\n",
       "      <td>G40.89</td>\n",
       "      <td>0</td>\n",
       "      <td>0</td>\n",
       "    </tr>\n",
       "    <tr>\n",
       "      <th>3</th>\n",
       "      <td>3</td>\n",
       "      <td>0.113121</td>\n",
       "      <td>G40.911</td>\n",
       "      <td>0</td>\n",
       "      <td>0</td>\n",
       "    </tr>\n",
       "    <tr>\n",
       "      <th>4</th>\n",
       "      <td>4</td>\n",
       "      <td>0.036852</td>\n",
       "      <td>I60.8</td>\n",
       "      <td>0</td>\n",
       "      <td>0</td>\n",
       "    </tr>\n",
       "    <tr>\n",
       "      <th>5</th>\n",
       "      <td>5</td>\n",
       "      <td>0.027262</td>\n",
       "      <td>G72.41</td>\n",
       "      <td>0</td>\n",
       "      <td>0</td>\n",
       "    </tr>\n",
       "    <tr>\n",
       "      <th>6</th>\n",
       "      <td>0</td>\n",
       "      <td>0.319635</td>\n",
       "      <td>I62.00</td>\n",
       "      <td>1</td>\n",
       "      <td>0</td>\n",
       "    </tr>\n",
       "    <tr>\n",
       "      <th>7</th>\n",
       "      <td>1</td>\n",
       "      <td>0.234108</td>\n",
       "      <td>G72.81</td>\n",
       "      <td>1</td>\n",
       "      <td>0</td>\n",
       "    </tr>\n",
       "    <tr>\n",
       "      <th>8</th>\n",
       "      <td>2</td>\n",
       "      <td>0.171003</td>\n",
       "      <td>G40.89</td>\n",
       "      <td>1</td>\n",
       "      <td>0</td>\n",
       "    </tr>\n",
       "    <tr>\n",
       "      <th>9</th>\n",
       "      <td>3</td>\n",
       "      <td>0.113105</td>\n",
       "      <td>G40.911</td>\n",
       "      <td>1</td>\n",
       "      <td>0</td>\n",
       "    </tr>\n",
       "  </tbody>\n",
       "</table>\n",
       "</div>"
      ],
      "text/plain": [
       "   index  probability     term  time  topic\n",
       "0      0     0.319323   I62.00     0      0\n",
       "1      1     0.233875   G72.81     0      0\n",
       "2      2     0.171007   G40.89     0      0\n",
       "3      3     0.113121  G40.911     0      0\n",
       "4      4     0.036852    I60.8     0      0\n",
       "5      5     0.027262   G72.41     0      0\n",
       "6      0     0.319635   I62.00     1      0\n",
       "7      1     0.234108   G72.81     1      0\n",
       "8      2     0.171003   G40.89     1      0\n",
       "9      3     0.113105  G40.911     1      0"
      ]
     },
     "execution_count": 143,
     "metadata": {},
     "output_type": "execute_result"
    }
   ],
   "source": [
    "def format_topics(topicid_num, time_slice, num_words, time_label, topic_label):\n",
    "    \n",
    "    top_mat = cov_model.show_topic(topicid = topicid_num, time = time_slice, topn=num_words)\n",
    "    top_df = pd.DataFrame(top_mat)\n",
    "    top_df['time'] = time_label\n",
    "    top_df[\"topic\"] = topic_label\n",
    "    top_df.columns = ['probability', 'term', 'time', 'topic']\n",
    "    \n",
    "    return(top_df)\n",
    "\n",
    "\n",
    "results = []\n",
    "\n",
    "num_topics = 7\n",
    "time_seq = 12\n",
    "\n",
    "for i in range(0, num_topics):\n",
    "    for t in range(0, time_seq):\n",
    "        top_df = format_topics(topicid_num = i, time_slice = t, num_words = 6, time_label = t, topic_label = i)\n",
    "        results.append(top_df)\n",
    "\n",
    "\n",
    "all_results = pd.concat(results).reset_index()\n",
    "all_results.head(10)"
   ]
  },
  {
   "cell_type": "code",
   "execution_count": 82,
   "metadata": {},
   "outputs": [
    {
     "data": {
      "text/plain": [
       "504"
      ]
     },
     "execution_count": 82,
     "metadata": {},
     "output_type": "execute_result"
    }
   ],
   "source": [
    "len(all_results)"
   ]
  },
  {
   "cell_type": "code",
   "execution_count": 144,
   "metadata": {
    "scrolled": true
   },
   "outputs": [
    {
     "data": {
      "text/html": [
       "<div>\n",
       "<style scoped>\n",
       "    .dataframe tbody tr th:only-of-type {\n",
       "        vertical-align: middle;\n",
       "    }\n",
       "\n",
       "    .dataframe tbody tr th {\n",
       "        vertical-align: top;\n",
       "    }\n",
       "\n",
       "    .dataframe thead th {\n",
       "        text-align: right;\n",
       "    }\n",
       "</style>\n",
       "<table border=\"1\" class=\"dataframe\">\n",
       "  <thead>\n",
       "    <tr style=\"text-align: right;\">\n",
       "      <th></th>\n",
       "      <th>index</th>\n",
       "      <th>probability</th>\n",
       "      <th>diagnosis_code</th>\n",
       "      <th>time</th>\n",
       "      <th>topic</th>\n",
       "    </tr>\n",
       "  </thead>\n",
       "  <tbody>\n",
       "    <tr>\n",
       "      <th>0</th>\n",
       "      <td>0</td>\n",
       "      <td>0.319323</td>\n",
       "      <td>I62.00</td>\n",
       "      <td>0</td>\n",
       "      <td>0</td>\n",
       "    </tr>\n",
       "    <tr>\n",
       "      <th>1</th>\n",
       "      <td>1</td>\n",
       "      <td>0.233875</td>\n",
       "      <td>G72.81</td>\n",
       "      <td>0</td>\n",
       "      <td>0</td>\n",
       "    </tr>\n",
       "    <tr>\n",
       "      <th>2</th>\n",
       "      <td>2</td>\n",
       "      <td>0.171007</td>\n",
       "      <td>G40.89</td>\n",
       "      <td>0</td>\n",
       "      <td>0</td>\n",
       "    </tr>\n",
       "    <tr>\n",
       "      <th>3</th>\n",
       "      <td>3</td>\n",
       "      <td>0.113121</td>\n",
       "      <td>G40.911</td>\n",
       "      <td>0</td>\n",
       "      <td>0</td>\n",
       "    </tr>\n",
       "    <tr>\n",
       "      <th>4</th>\n",
       "      <td>4</td>\n",
       "      <td>0.036852</td>\n",
       "      <td>I60.8</td>\n",
       "      <td>0</td>\n",
       "      <td>0</td>\n",
       "    </tr>\n",
       "  </tbody>\n",
       "</table>\n",
       "</div>"
      ],
      "text/plain": [
       "   index  probability diagnosis_code  time  topic\n",
       "0      0     0.319323         I62.00     0      0\n",
       "1      1     0.233875         G72.81     0      0\n",
       "2      2     0.171007         G40.89     0      0\n",
       "3      3     0.113121        G40.911     0      0\n",
       "4      4     0.036852          I60.8     0      0"
      ]
     },
     "execution_count": 144,
     "metadata": {},
     "output_type": "execute_result"
    }
   ],
   "source": [
    "# bind icd descriptions\n",
    "all_results = all_results.rename(columns={\"term\": \"diagnosis_code\"})\n",
    "\n",
    "all_results.head()"
   ]
  },
  {
   "cell_type": "code",
   "execution_count": 145,
   "metadata": {},
   "outputs": [
    {
     "name": "stdout",
     "output_type": "stream",
     "text": [
      "7978\n"
     ]
    },
    {
     "data": {
      "text/plain": [
       "7577"
      ]
     },
     "execution_count": 145,
     "metadata": {},
     "output_type": "execute_result"
    }
   ],
   "source": [
    "codes = neuro_waves[['diagnosis_code', 'diagnosis_name']].drop_duplicates()\n",
    "codes.head()\n",
    "print(len(codes))\n",
    "\n",
    "codes = codes.groupby(['diagnosis_code']).first()\n",
    "\n",
    "len(codes)"
   ]
  },
  {
   "cell_type": "code",
   "execution_count": 146,
   "metadata": {},
   "outputs": [
    {
     "data": {
      "text/plain": [
       "504"
      ]
     },
     "execution_count": 146,
     "metadata": {},
     "output_type": "execute_result"
    }
   ],
   "source": [
    "all_results = pd.merge(all_results, codes, on = 'diagnosis_code', how = 'inner')\n",
    "len(all_results)"
   ]
  },
  {
   "cell_type": "code",
   "execution_count": 147,
   "metadata": {},
   "outputs": [],
   "source": [
    "all_results[\"icd_code\"] = all_results[\"diagnosis_code\"] + \": \" + all_results[\"diagnosis_name\"]"
   ]
  },
  {
   "cell_type": "code",
   "execution_count": 154,
   "metadata": {
    "scrolled": true
   },
   "outputs": [
    {
     "data": {
      "text/plain": [
       "<seaborn.axisgrid.FacetGrid at 0x7fc710e21048>"
      ]
     },
     "execution_count": 154,
     "metadata": {},
     "output_type": "execute_result"
    },
    {
     "data": {
      "image/png": "[encoded data removed]",
      "text/plain": [
       "<Figure size 863.5x288 with 1 Axes>"
      ]
     },
     "metadata": {
      "needs_background": "light"
     },
     "output_type": "display_data"
    }
   ],
   "source": [
    "import seaborn as sns\n",
    "\n",
    "rocket_palette = sns.color_palette(\"hls\", 12)\n",
    "\n",
    "all_results_top1 = all_results[all_results['topic'] == 1]\n",
    "\n",
    "dtm_plot2 = sns.FacetGrid(all_results_top1, col=\"topic\", col_wrap=1, hue='icd_code', palette = rocket_palette, height=4, aspect=1.5)\n",
    "dtm_plot2.map_dataframe(sns.lineplot, x=\"time\", y=\"probability\")\n",
    "dtm_plot2.add_legend()\n",
    "\n",
    "#dtm_plot2.savefig('figures/topic8_50000.svg')"
   ]
  },
  {
   "cell_type": "code",
   "execution_count": null,
   "metadata": {},
   "outputs": [],
   "source": [
    "rocket_palette = sns.color_palette(\"rocket_r\")\n",
    "\n",
    "dtm_plot2 = sns.FacetGrid(lda_results, col=\"time\", col_wrap=5, hue='time', palette = rocket_palette)\n",
    "dtm_plot2.map_dataframe(sns.lineplot, x=\"topic\", y=\"score\" )"
   ]
  },
  {
   "cell_type": "code",
   "execution_count": null,
   "metadata": {},
   "outputs": [],
   "source": [
    "!pip install pyLDAvis==2.1.2"
   ]
  },
  {
   "cell_type": "code",
   "execution_count": null,
   "metadata": {},
   "outputs": [],
   "source": [
    "vis_wrapper = pyLDAvis.prepare(topic_term_dists=topic_term, doc_topic_dists=doc_topic, doc_lengths=doc_lengths, vocab=vocab, term_frequency=term_frequency)\n",
    "pyLDAvis.display(vis_wrapper)"
   ]
  }
 ],
 "metadata": {
  "kernelspec": {
   "display_name": "Python 3 (ipykernel)",
   "language": "python",
   "name": "python3"
  },
  "language_info": {
   "codemirror_mode": {
    "name": "ipython",
    "version": 3
   },
   "file_extension": ".py",
   "mimetype": "text/x-python",
   "name": "python",
   "nbconvert_exporter": "python",
   "pygments_lexer": "ipython3",
   "version": "3.7.1"
  }
 },
 "nbformat": 4,
 "nbformat_minor": 2
}
